{
 "cells": [
  {
   "cell_type": "code",
   "execution_count": 1,
   "metadata": {},
   "outputs": [
    {
     "ename": "ImportError",
     "evalue": "No module named 'plantedge'",
     "output_type": "error",
     "traceback": [
      "\u001b[0;31m---------------------------------------------------------------------------\u001b[0m",
      "\u001b[0;31mImportError\u001b[0m                               Traceback (most recent call last)",
      "\u001b[0;32m<ipython-input-1-b9196ac29040>\u001b[0m in \u001b[0;36m<module>\u001b[0;34m()\u001b[0m\n\u001b[1;32m      3\u001b[0m \u001b[0;32mimport\u001b[0m \u001b[0mtime\u001b[0m\u001b[0;34m\u001b[0m\u001b[0m\n\u001b[1;32m      4\u001b[0m \u001b[0;34m\u001b[0m\u001b[0m\n\u001b[0;32m----> 5\u001b[0;31m \u001b[0;32mfrom\u001b[0m \u001b[0mplantedge\u001b[0m\u001b[0;34m.\u001b[0m\u001b[0mcore\u001b[0m\u001b[0;34m.\u001b[0m\u001b[0mathena\u001b[0m \u001b[0;32mimport\u001b[0m \u001b[0mAthena\u001b[0m\u001b[0;34m\u001b[0m\u001b[0m\n\u001b[0m\u001b[1;32m      6\u001b[0m \u001b[0;32mfrom\u001b[0m \u001b[0mplantedge\u001b[0m\u001b[0;34m.\u001b[0m\u001b[0mcore\u001b[0m\u001b[0;34m.\u001b[0m\u001b[0mgaia\u001b[0m \u001b[0;32mimport\u001b[0m \u001b[0mGaia\u001b[0m\u001b[0;34m\u001b[0m\u001b[0m\n\u001b[1;32m      7\u001b[0m \u001b[0;32mfrom\u001b[0m \u001b[0mplantedge\u001b[0m\u001b[0;34m.\u001b[0m\u001b[0mfacade\u001b[0m\u001b[0;34m.\u001b[0m\u001b[0mvegetationIndex\u001b[0m \u001b[0;32mimport\u001b[0m \u001b[0;34m*\u001b[0m\u001b[0;34m\u001b[0m\u001b[0m\n",
      "\u001b[0;31mImportError\u001b[0m: No module named 'plantedge'"
     ]
    }
   ],
   "source": [
    "import json\n",
    "import numpy\n",
    "import time\n",
    "\n",
    "from plantedge.core.athena import Athena\n",
    "from plantedge.core.gaia import Gaia\n",
    "from plantedge.facade.vegetationIndex import *\n",
    "from plantedge.models import *\n",
    "\n",
    "gaia = Gaia()\n",
    "f_vegetation_Index = VegetationIndex()\n",
    "\n",
    "aois = Aoi.objects.filter(id__gte=4, id__lt=234).order_by('id')\n",
    "for aoi in aois:\n",
    "    params = {\n",
    "        'aoi_id': aoi.id,\n",
    "        'start_date': '2018-02-01',\n",
    "        'end_date': '2018-12-31',\n",
    "    }\n",
    "    print('starting AOI: ' + str(aoi.id))\n",
    "    f_vegetation_Index.manage_index_creation(params)\n",
    "    print()\n",
    "    print()\n",
    "    time.sleep(10)\n",
    "    "
   ]
  },
  {
   "cell_type": "code",
   "execution_count": null,
   "metadata": {},
   "outputs": [],
   "source": []
  }
 ],
 "metadata": {
  "kernelspec": {
   "display_name": "Python 3",
   "language": "python",
   "name": "python3"
  },
  "language_info": {
   "codemirror_mode": {
    "name": "ipython",
    "version": 3
   },
   "file_extension": ".py",
   "mimetype": "text/x-python",
   "name": "python",
   "nbconvert_exporter": "python",
   "pygments_lexer": "ipython3",
   "version": "3.5.5"
  }
 },
 "nbformat": 4,
 "nbformat_minor": 2
}
